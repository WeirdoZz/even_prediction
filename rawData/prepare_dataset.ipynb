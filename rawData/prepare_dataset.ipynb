{
 "cells": [
  {
   "cell_type": "markdown",
   "metadata": {
    "pycharm": {
     "name": "#%% md\n"
    }
   },
   "source": [
    "构建train、dev、test.txt"
   ]
  },
  {
   "cell_type": "code",
   "execution_count": 1,
   "metadata": {
    "pycharm": {
     "name": "#%%\n"
    }
   },
   "outputs": [],
   "source": [
    "import pandas as pd\n",
    "import random "
   ]
  },
  {
   "cell_type": "code",
   "execution_count": 2,
   "metadata": {
    "pycharm": {
     "name": "#%%\n"
    }
   },
   "outputs": [],
   "source": [
    "file_name = './company_event/Event_new_10.22.xlsx'\n",
    "data = pd.read_excel(file_name,engine=\"openpyxl\")"
   ]
  },
  {
   "cell_type": "code",
   "execution_count": 3,
   "metadata": {
    "pycharm": {
     "name": "#%%\n"
    }
   },
   "outputs": [],
   "source": [
    "data.head()\n",
    "data_len = data.shape[0] - 10"
   ]
  },
  {
   "cell_type": "code",
   "execution_count": 4,
   "metadata": {
    "pycharm": {
     "name": "#%%\n"
    }
   },
   "outputs": [
    {
     "data": {
      "text/plain": "373299"
     },
     "execution_count": 4,
     "metadata": {},
     "output_type": "execute_result"
    }
   ],
   "source": [
    "data_len"
   ]
  },
  {
   "cell_type": "code",
   "execution_count": 5,
   "metadata": {
    "pycharm": {
     "name": "#%%\n"
    }
   },
   "outputs": [],
   "source": [
    "all_company = set(list(data['CompanyName']))\n",
    "all_event = set(list(data['Event_Level1']))\n",
    "all_event_cat = set(list(data['Event_Cat']))\n",
    "all_datasets = []"
   ]
  },
  {
   "cell_type": "code",
   "execution_count": 6,
   "metadata": {
    "pycharm": {
     "name": "#%%\n"
    }
   },
   "outputs": [],
   "source": [
    "cas_file_name = './company_event/casuality.xlsx'\n",
    "cas_data = pd.read_excel(cas_file_name,engine=\"openpyxl\")"
   ]
  },
  {
   "cell_type": "code",
   "execution_count": 7,
   "metadata": {
    "pycharm": {
     "name": "#%%\n"
    }
   },
   "outputs": [
    {
     "data": {
      "text/plain": "Empty DataFrame\nColumns: []\nIndex: []",
      "text/html": "<div>\n<style scoped>\n    .dataframe tbody tr th:only-of-type {\n        vertical-align: middle;\n    }\n\n    .dataframe tbody tr th {\n        vertical-align: top;\n    }\n\n    .dataframe thead th {\n        text-align: right;\n    }\n</style>\n<table border=\"1\" class=\"dataframe\">\n  <thead>\n    <tr style=\"text-align: right;\">\n      <th></th>\n    </tr>\n  </thead>\n  <tbody>\n  </tbody>\n</table>\n</div>"
     },
     "execution_count": 7,
     "metadata": {},
     "output_type": "execute_result"
    }
   ],
   "source": [
    "cas_data.head()"
   ]
  },
  {
   "cell_type": "code",
   "execution_count": 8,
   "metadata": {
    "pycharm": {
     "name": "#%%\n"
    }
   },
   "outputs": [],
   "source": [
    "cas_dic = {}\n",
    "for row in cas_data.itertuples():\n",
    "    if row[1] not in cas_dic:\n",
    "        cas_dic[row[1]] = []\n",
    "    cas_dic[row[1]].append(row[2])"
   ]
  },
  {
   "cell_type": "code",
   "execution_count": 9,
   "metadata": {
    "pycharm": {
     "name": "#%%\n"
    }
   },
   "outputs": [],
   "source": [
    "for company in all_company:\n",
    "    \n",
    "    data_c = data[data['CompanyName'].str.contains(company)] #筛选\n",
    "    try:\n",
    "        data_c = data_c.sort_values(by='EventTime', ascending=True) #时间排序\n",
    "    except:\n",
    "        print(company + \"time error\")\n",
    "    data_c = data_c.drop_duplicates(subset = [ 'EventTime' ], keep = 'first') #事件时间去重\n",
    "    if(data_c.shape[0]<15):\n",
    "        continue\n",
    "        \n",
    "    #print(company+str(data_c.shape[0]))\n",
    "    \n",
    "    x_list = []\n",
    "    y_list = []\n",
    "    true_list = []\n",
    "    flag = -1\n",
    "    \n",
    "    dex = 0\n",
    "    for row in data_c.itertuples():\n",
    "        x_ = []\n",
    "        y_ = []\n",
    "        cas_x = []\n",
    "        cas_dex = 0\n",
    "        dex+=1\n",
    "        if(dex>=12):\n",
    "            break\n",
    "        \n",
    "        if(dex<9):\n",
    "            x_.append(getattr(row, 'Event_Cat').split(\"###\")[0])\n",
    "            x_.append('None')\n",
    "            x_.append(\"发生\")\n",
    "            x_.append(getattr(row, 'Event_Level1'))\n",
    "            x_.append(getattr(row, 'CompanyName'))\n",
    "            x_.append(\"客体公司\")\n",
    "            cas_x.append(str(getattr(row, 'Event_Level1')))\n",
    "            x_list.append(tuple(x_))\n",
    "        else:# 9 10 11  3个事件    \n",
    "            y_.append(getattr(row, 'Event_Cat').split(\"###\")[0])\n",
    "            y_.append('None')\n",
    "            y_.append(\"发生\")\n",
    "            y_.append(getattr(row, 'Event_Level1'))\n",
    "            y_.append(getattr(row, 'CompanyName'))\n",
    "            y_.append(\"客体公司\")\n",
    "            y_list.append(tuple(y_))\n",
    "            if(dex==9):\n",
    "                true_list = y_\n",
    "    \n",
    "    eff_event = []\n",
    "    for line in cas_x:\n",
    "        eff_event += cas_data[line]\n",
    "    eff_event = list(set(eff_event))\n",
    "    \n",
    "    y_ = []\n",
    "    r1 = random.randint(1,data_len-10)\n",
    "    #print(random.randint(1,data_len))\n",
    "    \n",
    "    \n",
    "    if len(eff_event)!= 0:\n",
    "        current_event = str(eff_event[random.randint(1,len(eff_event))])\n",
    "        y_.append(data.iloc[r1]['Event_Cat'].split(\"###\")[0])\n",
    "        y_.append('None')\n",
    "        y_.append(\"发生\")\n",
    "        #y_.append(data.iloc[r1]['Event_Level1'])\n",
    "        y_.append(current_event)\n",
    "        y_.append(data.iloc[r1]['CompanyName'])\n",
    "        y_.append(\"客体公司\")\n",
    "        y_list.append(tuple(y_))\n",
    "    else:\n",
    "        y_.append(data.iloc[r1]['Event_Cat'].split(\"###\")[0])\n",
    "        y_.append('None')\n",
    "        y_.append(\"发生\")\n",
    "        y_.append(data.iloc[r1]['Event_Level1'])\n",
    "        y_.append(data.iloc[r1]['CompanyName'])\n",
    "        y_.append(\"客体公司\")\n",
    "        y_list.append(tuple(y_))\n",
    "    \n",
    "\n",
    "    y_ = []\n",
    "    r2 = random.randint(1,data_len-10)\n",
    "    if len(eff_event)!= 0:\n",
    "        current_event = str(eff_event[random.randint(1,len(eff_event))])\n",
    "        y_.append(data.iloc[r1]['Event_Cat'].split(\"###\")[0])\n",
    "        y_.append('None')\n",
    "        y_.append(\"发生\")\n",
    "        #y_.append(data.iloc[r2]['Event_Level1'])\n",
    "        y_.append(current_event)\n",
    "        y_.append(data.iloc[r2]['CompanyName'])\n",
    "        y_.append(\"客体公司\")\n",
    "        y_list.append(tuple(y_))\n",
    "    else:\n",
    "        y_.append(data.iloc[r1]['Event_Cat'].split(\"###\")[0])\n",
    "        y_.append('None')\n",
    "        y_.append(\"发生\")\n",
    "        y_.append(data.iloc[r2]['Event_Level1'])\n",
    "        y_.append(data.iloc[r2]['CompanyName'])\n",
    "        y_.append(\"客体公司\")\n",
    "        y_list.append(tuple(y_))\n",
    "        \n",
    "    random.shuffle(y_list)\n",
    "    \n",
    "    for index,line in enumerate(y_list):\n",
    "        if(line==tuple(true_list)):\n",
    "            flag = index\n",
    "    \n",
    "    one_data = []\n",
    "    one_data.append(x_list)\n",
    "    one_data.append(y_list)\n",
    "    one_data.append(flag)\n",
    "\n",
    "    all_datasets.append(one_data)"
   ]
  },
  {
   "cell_type": "code",
   "execution_count": 10,
   "metadata": {
    "pycharm": {
     "name": "#%%\n"
    }
   },
   "outputs": [
    {
     "data": {
      "text/plain": "[[('亏损', 'None', '发生', '业务异常', '南大光电', '客体公司'),\n  ('处罚', 'None', '发生', '违法违规', '南大光电', '客体公司'),\n  ('同比下降', 'None', '发生', '业务异常', '南大光电', '客体公司'),\n  ('低于', 'None', '发生', '经营异常', '南大光电', '客体公司'),\n  ('低于', 'None', '发生', '经营异常', '南大光电', '客体公司'),\n  ('利润下降', 'None', '发生', '经营异常', '南大光电', '客体公司'),\n  ('充公', 'None', '发生', '违法违规', '南大光电', '客体公司'),\n  ('同比下降', 'None', '发生', '业务异常', '南大光电', '客体公司')],\n [('同比下降', 'None', '发生', '业务异常', '南大光电', '客体公司'),\n  ('亏损', 'None', '发生', '业务异常', '正元智慧', '客体公司'),\n  ('超标', 'None', '发生', '经营异常', '南大光电', '客体公司'),\n  ('亏损', 'None', '发生', '违法违规', '三一重工', '客体公司'),\n  ('同比下降', 'None', '发生', '业务异常', '南大光电', '客体公司')],\n 4]"
     },
     "execution_count": 10,
     "metadata": {},
     "output_type": "execute_result"
    }
   ],
   "source": [
    "all_datasets[135]"
   ]
  },
  {
   "cell_type": "code",
   "execution_count": 11,
   "metadata": {
    "pycharm": {
     "name": "#%%\n"
    }
   },
   "outputs": [],
   "source": [
    "import pickle\n",
    "def pickleFile(db,file):\n",
    "    with open(file,\"w\",encoding='utf-8') as dbFile:\n",
    "        pickle.dump(db,dbFile)\n",
    " \n",
    "def unpickeFile(file):\n",
    "    with open(file,\"rb\") as dbFile:\n",
    "        return pickle.load(dbFile)"
   ]
  },
  {
   "cell_type": "code",
   "execution_count": 12,
   "metadata": {
    "pycharm": {
     "name": "#%%\n"
    }
   },
   "outputs": [],
   "source": [
    "train_file = './company_event/train.txt'\n",
    "dev_file = './company_event/dev.txt'\n",
    "test_file = './company_event/test.txt'\n",
    "random.shuffle(all_datasets)\n",
    "\n",
    "wf = open(train_file,'wb')\n",
    "pickle.dump(all_datasets[0:1600],wf)\n",
    "\n",
    "wf = open(dev_file,'wb')\n",
    "pickle.dump(all_datasets[1600:2100],wf)\n",
    "\n",
    "wf = open(test_file,'wb')\n",
    "pickle.dump(all_datasets[2100:2340],wf)\n",
    "\n",
    "aaa = []\n",
    "wf = open('dev_index.pickle','wb')\n",
    "pickle.dump(aaa,wf)"
   ]
  },
  {
   "cell_type": "markdown",
   "metadata": {
    "pycharm": {
     "name": "#%% md\n"
    }
   },
   "source": [
    "训练词向量"
   ]
  },
  {
   "cell_type": "code",
   "execution_count": 80,
   "metadata": {
    "pycharm": {
     "name": "#%%\n"
    }
   },
   "outputs": [],
   "source": [
    "sen_line = []\n",
    "with open(\"2007.txt\",\"r\",encoding='utf-8') as f:\n",
    "    for line in f:\n",
    "        sen_line.append(line.split(\"###\")[1].replace(\"\\u3000\",\"\"))\n",
    "        \n",
    "with open(\"2008.txt\",\"r\",encoding='utf-8') as f:\n",
    "    for line in f:\n",
    "        sen_line.append(line.split(\"###\")[1].replace(\"\\u3000\",\"\"))\n",
    "        \n",
    "with open(\"2009.txt\",\"r\",encoding='utf-8') as f:\n",
    "    for line in f:\n",
    "        sen_line.append(line.split(\"###\")[1].replace(\"\\u3000\",\"\"))\n",
    "        \n",
    "with open(\"sentences.txt\",\"w\",encoding='utf-8') as f:\n",
    "    for line in sen_line:\n",
    "        f.write(line+\"\\n\")\n",
    "        \n",
    "    for line in data['Sentences']:\n",
    "        f.write(line+\"\\n\")"
   ]
  },
  {
   "cell_type": "markdown",
   "metadata": {
    "pycharm": {
     "name": "#%% md\n"
    }
   },
   "source": [
    "分词部分"
   ]
  },
  {
   "cell_type": "code",
   "execution_count": 15,
   "metadata": {
    "pycharm": {
     "name": "#%%\n"
    }
   },
   "outputs": [],
   "source": [
    "#保留词\n",
    "# all_company = set(list(data['CompanyName']))\n",
    "# all_event = set(list(data['Event_Level1']))\n",
    "# all_event_cat = set(list(data['Event_Cat']))\n",
    "with open('no_cut.txt',\"w\",encoding='utf-8') as f:\n",
    "    for line in all_company:\n",
    "        f.write(line+\"\\n\")\n",
    "        \n",
    "    for line in list(set(all_event)):\n",
    "        f.write(line+\"\\n\")\n",
    "        \n",
    "    for line in list(set(all_event_cat)):\n",
    "        f.write(line.split(\"###\")[0]+\"\\n\")\n",
    "        f.write(line.split(\"###\")[0]+\"_发生\\n\")\n",
    "        \n",
    "    f.write(\"None\")"
   ]
  },
  {
   "cell_type": "code",
   "execution_count": 81,
   "metadata": {
    "pycharm": {
     "name": "#%%\n"
    }
   },
   "outputs": [],
   "source": [
    "import logging\n",
    "import multiprocessing\n",
    "import os.path\n",
    "import sys\n",
    "import jieba\n",
    "\n",
    "from gensim.models import Word2Vec\n",
    "from gensim.models.word2vec import PathLineSentences"
   ]
  },
  {
   "cell_type": "code",
   "execution_count": 82,
   "metadata": {
    "pycharm": {
     "name": "#%%\n"
    }
   },
   "outputs": [],
   "source": [
    "jieba.load_userdict(\"no_cut.txt\")"
   ]
  },
  {
   "cell_type": "code",
   "execution_count": 83,
   "metadata": {
    "pycharm": {
     "name": "#%%\n"
    }
   },
   "outputs": [
    {
     "name": "stderr",
     "output_type": "stream",
     "text": [
      "C:\\ProgramData\\Anaconda3\\lib\\site-packages\\smart_open\\smart_open_lib.py:398: UserWarning: This function is deprecated, use smart_open.open instead. See the migration notes for details: https://github.com/RaRe-Technologies/smart_open/blob/master/README.rst#migrating-to-the-new-open-function\n",
      "  'See the migration notes for details: %s' % _MIGRATION_NOTES_URL\n",
      "\n",
      "KeyboardInterrupt\n",
      "\n"
     ]
    }
   ],
   "source": [
    "filePath = 'sentences.txt'\n",
    "fileSegWordDonePath = 'cut_sentences.txt'\n",
    "\n",
    "\n",
    "\n",
    "def stopwordslist(filepath):\n",
    "    stopwords = [line.strip() for line in open(filepath, 'r', encoding='utf-8').readlines()]\n",
    "    return stopwords\n",
    "\n",
    "# 打印中文列表\n",
    "def PrintListChinese(list):\n",
    "    pass\n",
    "\n",
    "# 读取文件内容到列表\n",
    "fileTrainRead = []  \n",
    "with open(filePath, 'r',encoding='utf-8') as fileTrainRaw:\n",
    "    for line in fileTrainRaw:  # 按行读取文件\n",
    "        fileTrainRead.append(line)\n",
    "\n",
    "# jieba分词后保存在列表中\n",
    "fileTrainSeg = []\n",
    "for i in range(len(fileTrainRead)):\n",
    "    fileTrainSeg.append([' '.join(list(jieba.cut(fileTrainRead[i][9:-11], cut_all=False)))])\n",
    "    if i % 100 == 0:\n",
    "        pass\n",
    "        #print(i)\n",
    "\n",
    "\n",
    "stopwords = stopwordslist('stopwords.txt')  # 这里加载停用词的路径\n",
    "for i in fileTrainRead:   \n",
    "    sentence_seged = jieba.cut(i.strip())\n",
    "    for word in sentence_seged:\n",
    "        if word not in stopwords:\n",
    "            if word != '\\t':\n",
    "                fileTrainSeg.append(word)\n",
    "\n",
    "\n",
    "        \n",
    "# 保存分词结果到文件中\n",
    "with open(fileSegWordDonePath, 'w', encoding='utf-8') as fW:\n",
    "    for i in range(len(fileTrainSeg)):\n",
    "        fW.write(fileTrainSeg[i][0])\n",
    "        fW.write('\\n')\n",
    "\n",
    "\"\"\"\n",
    "gensim word2vec获取词向量\n",
    "\"\"\"\n",
    "\n",
    "import warnings\n",
    "import logging\n",
    "import os.path\n",
    "import sys\n",
    "import multiprocessing\n",
    "\n",
    "import gensim\n",
    "from gensim.models import Word2Vec\n",
    "from gensim.models.word2vec import LineSentence\n",
    "\n",
    "# 忽略警告\n",
    "warnings.filterwarnings(action='ignore', category=UserWarning, module='gensim')\n",
    "\n",
    "\n",
    "\n",
    "# inp为输入语料, outp1为输出模型, outp2为vector格式的模型\n",
    "inp = fileSegWordDonePath\n",
    "out_model = 'word2vector_1.model'\n",
    "out_vector = 'word2vector_1.vector'\n",
    "\n",
    "# 训练skip-gram模型\n",
    "model = Word2Vec(LineSentence(inp), size=128, window=5, min_count=5,\n",
    "                 workers=multiprocessing.cpu_count())\n",
    "\n",
    "# 保存模型\n",
    "model.save(out_model)\n",
    "# 保存词向量\n",
    "model.wv.save_word2vec_format(out_vector, binary=False)"
   ]
  },
  {
   "cell_type": "markdown",
   "metadata": {
    "pycharm": {
     "name": "#%% md\n"
    }
   },
   "source": [
    "id-word 映射"
   ]
  },
  {
   "cell_type": "code",
   "execution_count": 89,
   "metadata": {
    "pycharm": {
     "name": "#%%\n"
    }
   },
   "outputs": [],
   "source": [
    "id_word = []\n",
    "with open('word2vector_1.vector',\"r\",encoding='utf-8') as f:\n",
    "    dex = -1\n",
    "    for line in f:\n",
    "        id_word.append(str(dex)+\" \"+line.split( )[0])\n",
    "        dex+=1\n",
    "        \n",
    "from pandas.core.frame import DataFrame\n",
    "id_word = id_word[1:]\n",
    "data_=DataFrame({'index':id_word})\n",
    "\n",
    "data_.to_csv('id_word.csv',sep=',', header=True, index=False,encoding='utf-8')"
   ]
  },
  {
   "cell_type": "markdown",
   "metadata": {
    "pycharm": {
     "name": "#%% md\n"
    }
   },
   "source": [
    "word2vector word-id"
   ]
  },
  {
   "cell_type": "code",
   "execution_count": 58,
   "metadata": {
    "pycharm": {
     "name": "#%%\n"
    }
   },
   "outputs": [],
   "source": [
    "word_id = {}\n",
    "for line in id_word:\n",
    "    line = str(line)\n",
    "    word = line.split( )[1]\n",
    "    idd = line.split( )[0]\n",
    "    word_id[word] = idd\n",
    "new_word2vector = []\n",
    "with open('word2vector_1.vector',\"r\",encoding='utf-8') as f:\n",
    "    dex = 0\n",
    "    for line in f:\n",
    "        dex+=1\n",
    "        if(dex!=1):\n",
    "            new_word2vector.append(  str( word_id[line.split( )[0]] ) + \" \" +  \" \".join(line.split( )[1:]) )\n",
    "            \n",
    "with open('new_word2vector.vector',\"w\",encoding='utf-8') as f:\n",
    "    for line in new_word2vector:\n",
    "        f.write(line+\"\\n\")"
   ]
  },
  {
   "cell_type": "markdown",
   "metadata": {
    "pycharm": {
     "name": "#%% md\n"
    }
   },
   "source": [
    "构建输入的事件转移图data2"
   ]
  },
  {
   "cell_type": "code",
   "execution_count": 27,
   "metadata": {
    "pycharm": {
     "name": "#%%\n"
    }
   },
   "outputs": [],
   "source": [
    "dict_data2 = {}\n",
    "for data_one in all_datasets:\n",
    "    context = data_one[0]\n",
    "    choice = data_one[1]\n",
    "    for dex in range(len(context)-1):\n",
    "        if context[dex][0] not in dict_data2:\n",
    "            dict_data2[context[dex][0]] = {}\n",
    "        #print(dict_data2)\n",
    "        if context[dex+1][0] not in dict_data2[context[dex][0]]:\n",
    "            dict_data2[context[dex][0]][context[dex+1][0]] = 0\n",
    "        dict_data2[context[dex][0]][context[dex+1][0]] += 1\n",
    "        \n",
    "    for dex in range(len(choice)-1):\n",
    "        if choice[dex][0] not in dict_data2:\n",
    "            dict_data2[choice[dex][0]] = {}\n",
    "        \n",
    "        if choice[dex+1][0] not in dict_data2[choice[dex][0]]:\n",
    "            dict_data2[choice[dex][0]][choice[dex+1][0]] = 0\n",
    "        dict_data2[choice[dex][0]][choice[dex+1][0]] += 1\n",
    "        \n",
    "    \n",
    "static_data2 = {}\n",
    "for v1, line in dict_data2.items():\n",
    "    #一个v1\n",
    "    sum_ = 0\n",
    "    for v2, num in line.items():\n",
    "        #print(line)\n",
    "        if(str(v1)!=str(v2)):\n",
    "            sum_ += int(num)\n",
    "    \n",
    "    for v2, num in line.items():\n",
    "        if v1 not in static_data2:\n",
    "            static_data2[v1] = {}\n",
    "        static_data2[v1][v2] = float(dict_data2[v1][v2]/sum_)\n",
    "        \n",
    "data_line = []\n",
    "for v1, line in static_data2.items():\n",
    "    for v2, num_ in line.items():\n",
    "        s1 = 0\n",
    "        s2 = 0\n",
    "        #if v1 in word_id:\n",
    "        #    s1 = word_id[v1]\n",
    "        #if v2 in word_id:\n",
    "        #    s2 = word_id[v2]\n",
    "        #data_line.append(str(s1)+\" \"+str(s2)+\" \"+str(static_data2[v1][v2]))\n",
    "        line_ = []\n",
    "        line_.append(v1)\n",
    "        line_.append(v2)\n",
    "        line_.append(static_data2[v1][v2])\n",
    "        data_line.append(line_)"
   ]
  },
  {
   "cell_type": "code",
   "execution_count": 28,
   "metadata": {
    "pycharm": {
     "name": "#%%\n"
    }
   },
   "outputs": [],
   "source": [
    "import csv \n",
    "with open('event_graph_.csv', 'w', newline='',encoding='utf-8') as csvfile:\n",
    "    writer  = csv.writer(csvfile)\n",
    "    for row in data_line:\n",
    "        writer.writerow(row)"
   ]
  },
  {
   "cell_type": "code",
   "execution_count": 88,
   "metadata": {
    "pycharm": {
     "name": "#%%\n"
    }
   },
   "outputs": [],
   "source": [
    "with open(\"my_data2.csv\",\"w\",encoding=\"utf-8\") as f:\n",
    "    for line in data_line:\n",
    "        f.write(line+\"\\n\")"
   ]
  },
  {
   "cell_type": "code",
   "execution_count": 91,
   "metadata": {
    "pycharm": {
     "name": "#%%\n"
    }
   },
   "outputs": [],
   "source": [
    "node_list_map={}\n",
    "node_list =  [1,2,3,4,5]\n",
    "for i in node_list:\n",
    "    node_list_map[i]=len(node_list_map)"
   ]
  },
  {
   "cell_type": "code",
   "execution_count": 92,
   "metadata": {
    "pycharm": {
     "name": "#%%\n"
    }
   },
   "outputs": [
    {
     "data": {
      "text/plain": [
       "{1: 0, 2: 1, 3: 2, 4: 3, 5: 4}"
      ]
     },
     "execution_count": 92,
     "metadata": {},
     "output_type": "execute_result"
    }
   ],
   "source": [
    "node_list_map"
   ]
  },
  {
   "cell_type": "code",
   "execution_count": 6,
   "metadata": {
    "pycharm": {
     "name": "#%%\n"
    }
   },
   "outputs": [],
   "source": [
    "file1 = 'train.txt'"
   ]
  },
  {
   "cell_type": "code",
   "execution_count": 7,
   "metadata": {
    "pycharm": {
     "name": "#%%\n"
    }
   },
   "outputs": [],
   "source": [
    "import pickle"
   ]
  },
  {
   "cell_type": "code",
   "execution_count": 8,
   "metadata": {
    "pycharm": {
     "name": "#%%\n"
    }
   },
   "outputs": [],
   "source": [
    "file = open(file1,\"rb\")"
   ]
  },
  {
   "cell_type": "code",
   "execution_count": 9,
   "metadata": {
    "pycharm": {
     "name": "#%%\n"
    }
   },
   "outputs": [],
   "source": [
    "train_list = pickle.load(file)"
   ]
  },
  {
   "cell_type": "code",
   "execution_count": 16,
   "metadata": {
    "pycharm": {
     "name": "#%%\n"
    }
   },
   "outputs": [],
   "source": [
    "with open(\"train_wb.txt\",\"w\",encoding='utf-8') as f:\n",
    "    for line in train_list:\n",
    "        f.write(str(line)+\"\\n\")"
   ]
  },
  {
   "cell_type": "code",
   "execution_count": 41,
   "metadata": {
    "pycharm": {
     "name": "#%%\n"
    }
   },
   "outputs": [],
   "source": [
    "a = {'1':2,'3':4}"
   ]
  },
  {
   "cell_type": "code",
   "execution_count": 46,
   "metadata": {
    "pycharm": {
     "name": "#%%\n"
    }
   },
   "outputs": [
    {
     "name": "stdout",
     "output_type": "stream",
     "text": [
      "1 2\n",
      "3 4\n"
     ]
    }
   ],
   "source": [
    "for keys,value in a.items():\n",
    "        print(keys,value)"
   ]
  },
  {
   "cell_type": "code",
   "execution_count": 1,
   "metadata": {
    "pycharm": {
     "name": "#%%\n"
    }
   },
   "outputs": [],
   "source": [
    "#define f(x) x*x"
   ]
  },
  {
   "cell_type": "markdown",
   "metadata": {
    "pycharm": {
     "name": "#%% md\n"
    }
   },
   "source": [
    "整理触发词"
   ]
  },
  {
   "cell_type": "code",
   "execution_count": 1,
   "metadata": {
    "pycharm": {
     "name": "#%%\n"
    }
   },
   "outputs": [],
   "source": [
    "import pandas as pd\n",
    "import random "
   ]
  },
  {
   "cell_type": "code",
   "execution_count": 2,
   "metadata": {
    "pycharm": {
     "name": "#%%\n"
    }
   },
   "outputs": [],
   "source": [
    "file_name = 'Event_new_10.22.xlsx'\n",
    "data = pd.read_excel(file_name)"
   ]
  },
  {
   "cell_type": "code",
   "execution_count": 14,
   "metadata": {
    "pycharm": {
     "name": "#%%\n"
    }
   },
   "outputs": [],
   "source": [
    "all_event = data['Event_Level3']\n",
    "all_event_cat = data['Event_Cat']\n",
    "all_datasets = {}"
   ]
  },
  {
   "cell_type": "code",
   "execution_count": null,
   "metadata": {
    "pycharm": {
     "name": "#%%\n"
    }
   },
   "outputs": [],
   "source": []
  },
  {
   "cell_type": "code",
   "execution_count": 15,
   "metadata": {
    "pycharm": {
     "name": "#%%\n"
    }
   },
   "outputs": [],
   "source": [
    "for i in range(len(all_event)):\n",
    "    if all_event[i] not in all_datasets:\n",
    "        all_datasets[all_event[i]] = []\n",
    "    else:\n",
    "        if all_event_cat[i] not in all_datasets[all_event[i]]:\n",
    "            all_datasets[all_event[i]].append(all_event_cat[i])"
   ]
  },
  {
   "cell_type": "code",
   "execution_count": 19,
   "metadata": {
    "collapsed": true,
    "jupyter": {
     "outputs_hidden": true
    },
    "pycharm": {
     "name": "#%%\n"
    }
   },
   "outputs": [
    {
     "data": {
      "text/plain": [
       "{'业绩下滑': ['亏损',\n",
       "  '同比下降',\n",
       "  '产能过剩',\n",
       "  '利润下滑',\n",
       "  '盈利能力下降',\n",
       "  '人民币升值',\n",
       "  '净利润下降',\n",
       "  '负收益',\n",
       "  '原材料价格上涨',\n",
       "  '限产',\n",
       "  '不达预期',\n",
       "  '公司业绩下滑',\n",
       "  '收益下降',\n",
       "  '盈利下滑',\n",
       "  '资产减值',\n",
       "  '毛利率下降',\n",
       "  '利润减少',\n",
       "  '盈利下降',\n",
       "  '成本上涨',\n",
       "  '股票减持',\n",
       "  '公司业绩下降',\n",
       "  '收入下滑',\n",
       "  '产量减少',\n",
       "  '需求下降',\n",
       "  '收益下滑',\n",
       "  '资产减持',\n",
       "  '销售费用增加',\n",
       "  '存货增加',\n",
       "  '收益为负',\n",
       "  '销量减少',\n",
       "  '薪酬上涨',\n",
       "  '售价降低',\n",
       "  '收益缩水',\n",
       "  '公司业绩负增长',\n",
       "  '交易量减少',\n",
       "  '外币贬值',\n",
       "  '盈利负增长',\n",
       "  '盈利萎缩',\n",
       "  '公司业绩缩水',\n",
       "  '收益萎缩',\n",
       "  '收益负增长'],\n",
       " '调查': ['立案', '调查'],\n",
       " '被举报': ['举报', '投诉', '揭发', '检举', '告发'],\n",
       " '行政处罚': ['罚款',\n",
       "  '限期整改',\n",
       "  '停产整改',\n",
       "  '制裁',\n",
       "  '充公',\n",
       "  '处罚',\n",
       "  '罚金',\n",
       "  '重罚',\n",
       "  '责令改正',\n",
       "  '整顿',\n",
       "  '警告',\n",
       "  '通报批评',\n",
       "  '行政处罚',\n",
       "  '整治',\n",
       "  '罚没',\n",
       "  '责令整改',\n",
       "  '责令停产',\n",
       "  '禁入',\n",
       "  '吊销',\n",
       "  '没收',\n",
       "  '扣押',\n",
       "  '暂扣',\n",
       "  '行政拘留',\n",
       "  '责令停业',\n",
       "  '责令立即改正',\n",
       "  '查封扣押'],\n",
       " '传闻调查': ['消息称###调查',\n",
       "  '传言###调查',\n",
       "  '传闻###调查',\n",
       "  '盛传###调查',\n",
       "  '谣言###调查',\n",
       "  '传言###立案',\n",
       "  '爆料###调查',\n",
       "  '消息称###立案',\n",
       "  '言论###调查',\n",
       "  '流传###调查',\n",
       "  '风传###调查',\n",
       "  '传闻###立案',\n",
       "  '谣传###立案',\n",
       "  '谣传###调查',\n",
       "  '谣言###立案',\n",
       "  '爆料###立案',\n",
       "  '流传###立案'],\n",
       " '食品添加剂': ['低于',\n",
       "  '不合格',\n",
       "  '缺少',\n",
       "  '非法添加',\n",
       "  '残留',\n",
       "  '超标',\n",
       "  '检出',\n",
       "  '违规使用',\n",
       "  '超范围使用',\n",
       "  '过量',\n",
       "  '超过标准',\n",
       "  '不得使用',\n",
       "  '超过国家标准'],\n",
       " '停产': ['停产', '停歇', '停止生产', '关停', '停工', '暂停营业', '停建', '停业整顿', '歇业', '全面瘫痪'],\n",
       " '诉讼': ['起诉',\n",
       "  '受审',\n",
       "  '指控',\n",
       "  '开庭',\n",
       "  '判决',\n",
       "  '审理',\n",
       "  '开审',\n",
       "  '审判',\n",
       "  '状告',\n",
       "  '审结',\n",
       "  '结案',\n",
       "  '败诉',\n",
       "  '胜诉',\n",
       "  '终审判决',\n",
       "  '强制执行',\n",
       "  '宣判',\n",
       "  '销案',\n",
       "  '撤案',\n",
       "  '诉诸法律',\n",
       "  '侦结'],\n",
       " '企业整改': ['整顿', '整改'],\n",
       " '产品质量': ['超标',\n",
       "  '不合格',\n",
       "  '缺陷',\n",
       "  '假冒',\n",
       "  '过期',\n",
       "  '不过关',\n",
       "  '不达标',\n",
       "  '掺假',\n",
       "  '变质',\n",
       "  '以次充好',\n",
       "  '掺杂',\n",
       "  '假货',\n",
       "  '次品',\n",
       "  '存在安全隐患',\n",
       "  '发霉',\n",
       "  '霉变',\n",
       "  '偷工减料',\n",
       "  '以假充真',\n",
       "  '材料污染'],\n",
       " '重组失败': ['终止重组',\n",
       "  '重组失败',\n",
       "  '重组终止',\n",
       "  '违法违规',\n",
       "  '涉嫌违法',\n",
       "  '遭稽查',\n",
       "  '被稽查',\n",
       "  '重组流产',\n",
       "  '涉嫌内幕交易',\n",
       "  '中止重组',\n",
       "  '重组被否',\n",
       "  '重组告吹',\n",
       "  '重组遭否',\n",
       "  '遭立案调查',\n",
       "  '重组被暂停',\n",
       "  '被立案调查',\n",
       "  '被证监会调查',\n",
       "  '重组叫停',\n",
       "  '重组夭折',\n",
       "  '重组被中止',\n",
       "  '重组被终止',\n",
       "  '重组暂停',\n",
       "  '遭证监会调查',\n",
       "  '取消重组',\n",
       "  '重组违法',\n",
       "  '遭证监会立案调查',\n",
       "  '重组违规'],\n",
       " '造假': ['虚构收入',\n",
       "  '虚增资产',\n",
       "  '造假',\n",
       "  '虚增利润',\n",
       "  '伪造',\n",
       "  '欺诈发行',\n",
       "  '假合同',\n",
       "  '假冒',\n",
       "  '假账',\n",
       "  '假公章',\n",
       "  '假货',\n",
       "  '假协议',\n",
       "  '假数据',\n",
       "  '赝品',\n",
       "  '仿冒品'],\n",
       " '破产清算': ['破产重整',\n",
       "  '资不抵债',\n",
       "  '破产',\n",
       "  '破产重组',\n",
       "  '濒临破产',\n",
       "  '破产清算',\n",
       "  '倒闭',\n",
       "  '关门',\n",
       "  '宣布破产',\n",
       "  '强制清算',\n",
       "  '关张',\n",
       "  '经营失败'],\n",
       " '项目负面': ['利润下降',\n",
       "  '利润下滑',\n",
       "  '利润亏损',\n",
       "  '利润降低',\n",
       "  '合同纠纷',\n",
       "  '净利润为负值',\n",
       "  '合同诈骗',\n",
       "  '利润下跌',\n",
       "  '项目亏损',\n",
       "  '利润率较低',\n",
       "  '阴阳合同',\n",
       "  '利润率低于',\n",
       "  '假合同',\n",
       "  '利润率下降',\n",
       "  '利润较低',\n",
       "  '利润率降低',\n",
       "  '项目夭折',\n",
       "  '合同终止',\n",
       "  '利润率下滑',\n",
       "  '利润越来越低',\n",
       "  '虚假合同',\n",
       "  '伪造合同',\n",
       "  '利润很薄',\n",
       "  '利润过低',\n",
       "  '利润变薄',\n",
       "  '利润率过低',\n",
       "  '利润跌破',\n",
       "  '合同提前终止',\n",
       "  '利润率下跌',\n",
       "  '合同造假',\n",
       "  '利润率越来越低',\n",
       "  '项目被禁止',\n",
       "  '项目连亏',\n",
       "  '利润率受挤压'],\n",
       " '否认造假': ['不存在###虚增利润',\n",
       "  '否认###造假',\n",
       "  '澄清###造假',\n",
       "  '不存在###造假',\n",
       "  '不存在###欺诈发行',\n",
       "  '不存在###伪造',\n",
       "  '否认###假账',\n",
       "  '故意造谣###造假',\n",
       "  '澄清###虚增利润',\n",
       "  '撇清###造假',\n",
       "  '不属实###造假',\n",
       "  '澄清###伪造',\n",
       "  '告一段落###造假',\n",
       "  '澄清###假冒',\n",
       "  '否认###虚增利润',\n",
       "  '澄清###虚增资产',\n",
       "  '否认###伪造',\n",
       "  '告一段落###欺诈发行',\n",
       "  '澄清###假账',\n",
       "  '自证清白###造假',\n",
       "  '澄清###假货',\n",
       "  '不存在###虚增资产',\n",
       "  '否认###虚增资产',\n",
       "  '失实###造假',\n",
       "  '不属实###伪造',\n",
       "  '否认###假货',\n",
       "  '严重失实###造假',\n",
       "  '澄清###假合同',\n",
       "  '撇清###伪造',\n",
       "  '不属实###假冒',\n",
       "  '不攻自破###虚增利润',\n",
       "  '否认###欺诈发行',\n",
       "  '严重失实###虚增利润',\n",
       "  '不存在###假数据',\n",
       "  '严重失实###假数据',\n",
       "  '无稽之谈###伪造',\n",
       "  '不存在###假账',\n",
       "  '不存在###假冒',\n",
       "  '澄清###假数据',\n",
       "  '失实###伪造',\n",
       "  '恶意诽谤###伪造',\n",
       "  '告一段落###伪造'],\n",
       " '否认被举报': ['不存在###举报',\n",
       "  '澄清###举报',\n",
       "  '不属实###举报',\n",
       "  '澄清###揭发',\n",
       "  '恶意诽谤###举报',\n",
       "  '否认###举报',\n",
       "  '澄清###投诉',\n",
       "  '失实###举报',\n",
       "  '不存在###投诉',\n",
       "  '否认###投诉',\n",
       "  '不攻自破###举报',\n",
       "  '严重失实###举报',\n",
       "  '撇清###举报',\n",
       "  '告一段落###举报',\n",
       "  '是谣言###举报',\n",
       "  '失实###投诉',\n",
       "  '自证清白###举报'],\n",
       " '否认诉讼': ['不存在###指控',\n",
       "  '否认###指控',\n",
       "  '澄清###指控',\n",
       "  '不存在###审理',\n",
       "  '不存在###撤案',\n",
       "  '否认###开庭',\n",
       "  '否认###判决',\n",
       "  '告一段落###开庭',\n",
       "  '不存在###判决',\n",
       "  '澄清###起诉',\n",
       "  '不存在###起诉',\n",
       "  '不存在###受审',\n",
       "  '不攻自破###胜诉',\n",
       "  '否认###起诉',\n",
       "  '撇清###指控',\n",
       "  '失实###起诉',\n",
       "  '否认###审理',\n",
       "  '不存在###强制执行',\n",
       "  '不存在###开庭',\n",
       "  '澄清###宣判',\n",
       "  '澄清###判决',\n",
       "  '澄清###审理',\n",
       "  '是谣言###宣判',\n",
       "  '不属实###起诉',\n",
       "  '严重失实###起诉',\n",
       "  '告一段落###起诉',\n",
       "  '澄清###诉诸法律',\n",
       "  '不属实###败诉',\n",
       "  '告一段落###审理',\n",
       "  '撇清###起诉',\n",
       "  '告一段落###状告',\n",
       "  '澄清###开庭',\n",
       "  '告一段落###败诉',\n",
       "  '澄清###撤案',\n",
       "  '否认###撤案',\n",
       "  '无稽之谈###指控',\n",
       "  '澄清###受审',\n",
       "  '不存在###状告',\n",
       "  '恶意诽谤###起诉',\n",
       "  '撇清###状告',\n",
       "  '撇清###受审',\n",
       "  '否认###开审',\n",
       "  '告一段落###胜诉',\n",
       "  '澄清###状告',\n",
       "  '否认###状告',\n",
       "  '否认###胜诉',\n",
       "  '澄清###胜诉',\n",
       "  '澄清###败诉',\n",
       "  '否认###宣判',\n",
       "  '不属实###判决',\n",
       "  '澄清###强制执行',\n",
       "  '不存在###审判',\n",
       "  '不存在###败诉',\n",
       "  '失实###败诉',\n",
       "  '属谣言###起诉',\n",
       "  '不属实###宣判',\n",
       "  '不存在###终审判决',\n",
       "  '不存在###审结',\n",
       "  '失实###判决',\n",
       "  '撇清###宣判',\n",
       "  '不存在###胜诉',\n",
       "  '否认###败诉',\n",
       "  '澄清###结案',\n",
       "  '告一段落###指控',\n",
       "  '无稽之谈###起诉',\n",
       "  '告一段落###宣判'],\n",
       " '否认业绩下滑': ['不存在###亏损',\n",
       "  '不存在###同比下降',\n",
       "  '否认###亏损',\n",
       "  '澄清###亏损',\n",
       "  '澄清###公司业绩下滑',\n",
       "  '不存在###产能过剩',\n",
       "  '不存在###资产减值',\n",
       "  '否认###收入下滑',\n",
       "  '否认###同比下降',\n",
       "  '不存在###盈利下降',\n",
       "  '否认###净利润下降',\n",
       "  '澄清###同比下降',\n",
       "  '纯属谣言###限产',\n",
       "  '否认###限产',\n",
       "  '澄清###限产',\n",
       "  '不属实###亏损',\n",
       "  '否认###利润下滑',\n",
       "  '澄清###股票减持',\n",
       "  '澄清###利润下滑',\n",
       "  '失实###亏损',\n",
       "  '撇清###亏损',\n",
       "  '澄清###成本上涨',\n",
       "  '澄清###毛利率下降',\n",
       "  '告一段落###人民币升值',\n",
       "  '澄清###净利润下降',\n",
       "  '失实###资产减值',\n",
       "  '告一段落###亏损',\n",
       "  '否认###公司业绩下滑',\n",
       "  '澄清###收入下滑',\n",
       "  '否认###资产减值',\n",
       "  '否认###产能过剩',\n",
       "  '不存在###人民币升值',\n",
       "  '澄清###原材料价格上涨',\n",
       "  '澄清###盈利能力下降',\n",
       "  '不存在###不达预期',\n",
       "  '不存在###原材料价格上涨',\n",
       "  '否认###原材料价格上涨',\n",
       "  '不存在###利润减少',\n",
       "  '否认###收益下滑'],\n",
       " '传闻业绩下滑': ['传闻###亏损',\n",
       "  '消息称###亏损',\n",
       "  '流传###亏损',\n",
       "  '谣言###亏损',\n",
       "  '消息称###同比下降',\n",
       "  '传言###同比下降',\n",
       "  '传言###亏损',\n",
       "  '爆料###产能过剩',\n",
       "  '传闻###同比下降',\n",
       "  '言论###资产减值',\n",
       "  '爆料###亏损',\n",
       "  '流传###产能过剩',\n",
       "  '谣言###不达预期',\n",
       "  '传言###产能过剩',\n",
       "  '消息称###收入下滑',\n",
       "  '传言###资产减值',\n",
       "  '传闻###利润下滑',\n",
       "  '消息称###资产减值',\n",
       "  '传闻###人民币升值',\n",
       "  '消息称###公司业绩下滑',\n",
       "  '流言###亏损',\n",
       "  '言论###亏损',\n",
       "  '传闻###限产',\n",
       "  '传闻###成本上涨',\n",
       "  '传闻###不达预期',\n",
       "  '传言###利润下滑',\n",
       "  '言论###产能过剩',\n",
       "  '消息称###限产',\n",
       "  '盛传###亏损',\n",
       "  '传闻###产能过剩',\n",
       "  '传闻###资产减值',\n",
       "  '传言###成本上涨',\n",
       "  '爆料###收益为负',\n",
       "  '消息称###盈利下滑',\n",
       "  '爆料###公司业绩下滑',\n",
       "  '消息称###原材料价格上涨',\n",
       "  '传言###限产'],\n",
       " '产品召回': ['召回'],\n",
       " '否认调查': ['否认###调查',\n",
       "  '澄清###调查',\n",
       "  '告一段落###调查',\n",
       "  '不存在###调查',\n",
       "  '撇清###调查',\n",
       "  '澄清###立案',\n",
       "  '不属实###调查',\n",
       "  '不存在###立案',\n",
       "  '否认###立案',\n",
       "  '严重失实###调查',\n",
       "  '故意造谣###立案',\n",
       "  '失实###调查',\n",
       "  '自证清白###调查',\n",
       "  '恶意诽谤###立案',\n",
       "  '不符合实际###调查',\n",
       "  '不符实际###调查',\n",
       "  '不属实###立案',\n",
       "  '纯属谣言###调查',\n",
       "  '纯属谣言###立案',\n",
       "  '撇清###立案',\n",
       "  '属谣传###调查',\n",
       "  '属谣言###调查',\n",
       "  '不攻自破###调查',\n",
       "  '告一段落###立案',\n",
       "  '是谣言###调查'],\n",
       " '传闻造假': ['传闻###造假',\n",
       "  '爆料###造假',\n",
       "  '言论###造假',\n",
       "  '流传###造假',\n",
       "  '风传###造假',\n",
       "  '爆料###伪造',\n",
       "  '言论###假账',\n",
       "  '消息称###造假',\n",
       "  '传言###造假',\n",
       "  '言论###欺诈发行',\n",
       "  '传闻###伪造',\n",
       "  '爆料###假冒',\n",
       "  '消息称###伪造',\n",
       "  '谣传###造假',\n",
       "  '谣言###造假',\n",
       "  '消息称###欺诈发行',\n",
       "  '传闻###欺诈发行',\n",
       "  '盛传###假账',\n",
       "  '爆料###虚增利润',\n",
       "  '传言###虚增利润',\n",
       "  '传闻###虚增利润',\n",
       "  '爆料###假货',\n",
       "  '盛传###伪造',\n",
       "  '传言###伪造'],\n",
       " '传闻被举报': ['流传###举报',\n",
       "  '传闻###投诉',\n",
       "  '传闻###举报',\n",
       "  '谣言###举报',\n",
       "  '爆料###投诉',\n",
       "  '消息称###举报',\n",
       "  '言论###举报',\n",
       "  '爆料###举报',\n",
       "  '消息称###投诉',\n",
       "  '流传###投诉',\n",
       "  '传言###举报',\n",
       "  '盛传###举报',\n",
       "  '言论###投诉',\n",
       "  '流传###检举',\n",
       "  '消息称###检举'],\n",
       " '传闻诉讼': ['消息称###开庭',\n",
       "  '传闻###判决',\n",
       "  '爆料###起诉',\n",
       "  '消息称###状告',\n",
       "  '传闻###起诉',\n",
       "  '言论###起诉',\n",
       "  '消息称###起诉',\n",
       "  '传闻###强制执行',\n",
       "  '消息称###强制执行',\n",
       "  '言论###终审判决',\n",
       "  '传言###起诉',\n",
       "  '流传###起诉',\n",
       "  '消息称###审理',\n",
       "  '传闻###销案',\n",
       "  '谣言###起诉',\n",
       "  '消息称###销案',\n",
       "  '消息称###胜诉',\n",
       "  '传闻###状告',\n",
       "  '消息称###判决',\n",
       "  '流传###判决',\n",
       "  '言论###判决',\n",
       "  '传闻###审判',\n",
       "  '言论###开庭',\n",
       "  '爆料###宣判',\n",
       "  '流传###状告',\n",
       "  '传闻###开庭',\n",
       "  '言论###状告',\n",
       "  '谣传###起诉',\n",
       "  '传言###结案',\n",
       "  '爆料###判决',\n",
       "  '流言###判决',\n",
       "  '传闻###审理',\n",
       "  '消息称###受审',\n",
       "  '传言###审判',\n",
       "  '传言###诉诸法律',\n",
       "  '传闻###审结',\n",
       "  '言论###审判',\n",
       "  '传言###败诉',\n",
       "  '传闻###胜诉',\n",
       "  '爆料###受审',\n",
       "  '消息称###败诉'],\n",
       " '销量减少': ['销售量下降',\n",
       "  '销量下滑',\n",
       "  '销量下降',\n",
       "  '需求量下降',\n",
       "  '出货量下降',\n",
       "  '销售额下降',\n",
       "  '销售额下滑',\n",
       "  '售额减少',\n",
       "  '出货量减少',\n",
       "  '销量减少',\n",
       "  '供应量下降',\n",
       "  '需求量缩减',\n",
       "  '需求量减少',\n",
       "  '供应量减少',\n",
       "  '销售量减少',\n",
       "  '消费量下降',\n",
       "  '需求量下滑',\n",
       "  '销量跳水',\n",
       "  '销量走低',\n",
       "  '销售量缩减',\n",
       "  '出货量下滑',\n",
       "  '销售量下滑',\n",
       "  '销售额缩水',\n",
       "  '发货量减少',\n",
       "  '销量缩水',\n",
       "  '零售量下滑',\n",
       "  '发货量下降',\n",
       "  '供应量缩减',\n",
       "  '需求量走低',\n",
       "  '销量缩减',\n",
       "  '消费量下滑',\n",
       "  '发货量下滑'],\n",
       " '传闻停产': ['传闻###停歇',\n",
       "  '传闻###停产',\n",
       "  '传闻###关停',\n",
       "  '传言###停产',\n",
       "  '消息称###停产',\n",
       "  '爆料###停业整顿',\n",
       "  '传闻###停工',\n",
       "  '传闻###暂停营业',\n",
       "  '消息称###关停',\n",
       "  '爆料###停产',\n",
       "  '流传###停产',\n",
       "  '传言###停工',\n",
       "  '盛传###停产',\n",
       "  '消息称###停歇',\n",
       "  '谣言###停产',\n",
       "  '传闻###停业整顿',\n",
       "  '消息称###暂停营业',\n",
       "  '传闻###停建',\n",
       "  '言论###停产',\n",
       "  '消息称###停工',\n",
       "  '爆料###停止生产',\n",
       "  '爆料###关停',\n",
       "  '爆料###暂停营业',\n",
       "  '传闻###全面瘫痪',\n",
       "  '消息称###全面瘫痪',\n",
       "  '消息称###停止生产'],\n",
       " '否认停产': ['告一段落###关停',\n",
       "  '澄清###停产',\n",
       "  '不存在###关停',\n",
       "  '澄清###停工',\n",
       "  '不属实###停产',\n",
       "  '澄清###停歇',\n",
       "  '澄清###关停',\n",
       "  '否认###停产',\n",
       "  '不存在###停产',\n",
       "  '是谣言###停产',\n",
       "  '不存在###停工',\n",
       "  '告一段落###停产',\n",
       "  '否认###停工',\n",
       "  '不存在###停歇',\n",
       "  '告一段落###停歇',\n",
       "  '澄清###停止生产',\n",
       "  '否认###关停',\n",
       "  '澄清###停业整顿',\n",
       "  '不属实###关停',\n",
       "  '不存在###停止生产',\n",
       "  '告一段落###停工',\n",
       "  '严重失实###停产',\n",
       "  '澄清###全面瘫痪'],\n",
       " '产品被送检': ['送检', '复检'],\n",
       " '违规生产': ['违规排污',\n",
       "  '爆炸事故',\n",
       "  '违法排污',\n",
       "  '违规生产',\n",
       "  '整改项目',\n",
       "  '非法排污',\n",
       "  '违规倾倒',\n",
       "  '非法生产',\n",
       "  '违法生产',\n",
       "  '项目违规',\n",
       "  '中毒事故',\n",
       "  '偷排污水',\n",
       "  '污染农田',\n",
       "  '不法生产'],\n",
       " '传闻行政处罚': ['传言###处罚',\n",
       "  '传闻###处罚',\n",
       "  '消息称###制裁',\n",
       "  '消息称###罚款',\n",
       "  '传闻###整顿',\n",
       "  '消息称###警告',\n",
       "  '言论###处罚',\n",
       "  '消息称###处罚',\n",
       "  '爆料###制裁',\n",
       "  '消息称###整顿',\n",
       "  '传闻###禁入',\n",
       "  '传闻###没收',\n",
       "  '传闻###吊销',\n",
       "  '传闻###充公',\n",
       "  '传闻###扣押',\n",
       "  '爆料###扣押',\n",
       "  '传闻###整治',\n",
       "  '言论###禁入',\n",
       "  '传闻###行政处罚',\n",
       "  '传闻###重罚',\n",
       "  '消息称###充公',\n",
       "  '消息称###没收',\n",
       "  '传闻###罚款',\n",
       "  '消息称###罚金',\n",
       "  '流传###处罚',\n",
       "  '谣言###整治',\n",
       "  '言论###罚款',\n",
       "  '爆料###罚款',\n",
       "  '传闻###警告',\n",
       "  '爆料###处罚',\n",
       "  '传言###整治',\n",
       "  '传言###没收',\n",
       "  '爆料###整顿',\n",
       "  '消息称###通报批评',\n",
       "  '爆料###吊销',\n",
       "  '传闻###责令整改',\n",
       "  '传言###制裁',\n",
       "  '传闻###通报批评',\n",
       "  '言论###行政处罚',\n",
       "  '谣传###整顿',\n",
       "  '言论###警告',\n",
       "  '传闻###责令停产',\n",
       "  '爆料###禁入',\n",
       "  '消息称###整治',\n",
       "  '传言###重罚',\n",
       "  '消息称###行政处罚',\n",
       "  '传闻###限期整改',\n",
       "  '传言###禁入',\n",
       "  '流传###整顿',\n",
       "  '流传###行政处罚',\n",
       "  '传言###整顿',\n",
       "  '言论###制裁',\n",
       "  '消息称###扣押',\n",
       "  '传闻###责令改正',\n",
       "  '盛传###罚款',\n",
       "  '流传###没收',\n",
       "  '传言###罚款',\n",
       "  '传言###行政处罚',\n",
       "  '流传###罚款',\n",
       "  '传闻###制裁',\n",
       "  '盛传###制裁',\n",
       "  '消息称###禁入'],\n",
       " '产品下架': ['下架', '撤下', '撤柜'],\n",
       " '传闻重组失败': ['流传###涉嫌内幕交易',\n",
       "  '传闻###重组失败',\n",
       "  '爆料###重组终止',\n",
       "  '消息称###被稽查',\n",
       "  '传言###涉嫌内幕交易',\n",
       "  '传言###被立案调查',\n",
       "  '流传###重组失败',\n",
       "  '言论###重组失败',\n",
       "  '传闻###重组终止',\n",
       "  '爆料###重组失败',\n",
       "  '传言###重组失败',\n",
       "  '传闻###重组叫停',\n",
       "  '传闻###终止重组',\n",
       "  '传闻###涉嫌内幕交易',\n",
       "  '传闻###重组告吹',\n",
       "  '盛传###终止重组',\n",
       "  '谣言###重组失败',\n",
       "  '传闻###被立案调查',\n",
       "  '传言###被证监会调查',\n",
       "  '消息称###重组终止',\n",
       "  '风传###涉嫌内幕交易',\n",
       "  '消息称###涉嫌内幕交易',\n",
       "  '消息称###重组夭折'],\n",
       " '否认食品添加剂': ['澄清###不合格',\n",
       "  '不存在###低于',\n",
       "  '澄清###低于',\n",
       "  '否认###超标',\n",
       "  '否认###低于',\n",
       "  '否认###不合格',\n",
       "  '不存在###不合格',\n",
       "  '不存在###超标',\n",
       "  '告一段落###超标',\n",
       "  '澄清###超标',\n",
       "  '告一段落###低于',\n",
       "  '不存在###缺少',\n",
       "  '不攻自破###超标',\n",
       "  '不属实###超标',\n",
       "  '澄清###残留',\n",
       "  '澄清###非法添加',\n",
       "  '撇清###低于',\n",
       "  '撇清###超标',\n",
       "  '失实###低于',\n",
       "  '否认###缺少',\n",
       "  '否认###残留',\n",
       "  '澄清###缺少',\n",
       "  '澄清###检出',\n",
       "  '自证清白###超标',\n",
       "  '不存在###检出',\n",
       "  '撇清###残留',\n",
       "  '不存在###违规使用',\n",
       "  '撇清###不合格',\n",
       "  '否认###违规使用',\n",
       "  '不攻自破###低于'],\n",
       " '否认产品质量': ['否认###超标',\n",
       "  '澄清###不合格',\n",
       "  '澄清###超标',\n",
       "  '自证清白###超标',\n",
       "  '不存在###不合格',\n",
       "  '否认###不达标',\n",
       "  '澄清###掺杂',\n",
       "  '澄清###不达标',\n",
       "  '澄清###假冒',\n",
       "  '不存在###超标',\n",
       "  '撇清###超标',\n",
       "  '澄清###假货',\n",
       "  '否认###以次充好',\n",
       "  '否认###不过关',\n",
       "  '否认###过期',\n",
       "  '不存在###不达标',\n",
       "  '否认###不合格',\n",
       "  '不属实###超标',\n",
       "  '否认###缺陷',\n",
       "  '澄清###以次充好',\n",
       "  '不存在###缺陷',\n",
       "  '否认###掺杂',\n",
       "  '澄清###掺假',\n",
       "  '不存在###过期',\n",
       "  '否认###发霉',\n",
       "  '澄清###过期',\n",
       "  '否认###假货',\n",
       "  '纯属谣言###掺假',\n",
       "  '否认###假冒',\n",
       "  '撇清###假冒',\n",
       "  '告一段落###超标',\n",
       "  '澄清###缺陷',\n",
       "  '不属实###假冒',\n",
       "  '不攻自破###超标',\n",
       "  '撇清###不合格',\n",
       "  '否认###偷工减料',\n",
       "  '不存在###假冒',\n",
       "  '不存在###偷工减料',\n",
       "  '不属实###以次充好',\n",
       "  '严重失实###掺杂'],\n",
       " '传闻破产清算': ['流传###破产重整',\n",
       "  '传闻###资不抵债',\n",
       "  '言论###破产',\n",
       "  '消息称###破产',\n",
       "  '传言###破产',\n",
       "  '传闻###破产',\n",
       "  '盛传###破产',\n",
       "  '消息称###宣布破产',\n",
       "  '传闻###倒闭',\n",
       "  '传闻###关张',\n",
       "  '爆料###破产清算',\n",
       "  '谣言###倒闭',\n",
       "  '盛传###倒闭',\n",
       "  '流传###资不抵债',\n",
       "  '言论###破产重整',\n",
       "  '传闻###关门',\n",
       "  '谣传###破产',\n",
       "  '消息称###破产重整',\n",
       "  '传言###破产重整',\n",
       "  '流传###倒闭',\n",
       "  '传言###倒闭',\n",
       "  '传闻###破产重整',\n",
       "  '流传###关门',\n",
       "  '传言###关门',\n",
       "  '传言###濒临破产',\n",
       "  '传闻###濒临破产',\n",
       "  '消息称###关门',\n",
       "  '谣言###关门',\n",
       "  '流传###破产',\n",
       "  '爆料###破产',\n",
       "  '爆料###关门',\n",
       "  '消息称###破产清算',\n",
       "  '言论###濒临破产',\n",
       "  '爆料###倒闭',\n",
       "  '谣言###宣布破产',\n",
       "  '谣言###破产重组',\n",
       "  '消息称###破产重组'],\n",
       " '否认行政处罚': ['不存在###处罚',\n",
       "  '撇清###充公',\n",
       "  '不存在###行政处罚',\n",
       "  '澄清###处罚',\n",
       "  '严重失实###限期整改',\n",
       "  '澄清###行政处罚',\n",
       "  '告一段落###处罚',\n",
       "  '澄清###吊销',\n",
       "  '澄清###通报批评',\n",
       "  '撇清###处罚',\n",
       "  '否认###处罚',\n",
       "  '澄清###罚款',\n",
       "  '不存在###充公',\n",
       "  '不存在###没收',\n",
       "  '失实###处罚',\n",
       "  '告一段落###行政处罚',\n",
       "  '澄清###整顿',\n",
       "  '否认###充公',\n",
       "  '否认###扣押',\n",
       "  '澄清###责令整改',\n",
       "  '澄清###禁入',\n",
       "  '严重失实###制裁',\n",
       "  '澄清###充公',\n",
       "  '澄清###整治',\n",
       "  '失实###整顿',\n",
       "  '澄清###重罚',\n",
       "  '不存在###责令整改',\n",
       "  '不存在###禁入',\n",
       "  '是谣传###制裁',\n",
       "  '澄清###制裁',\n",
       "  '否认###没收',\n",
       "  '否认###行政处罚',\n",
       "  '失实###责令改正',\n",
       "  '失实###责令整改',\n",
       "  '不存在###罚款',\n",
       "  '否认###罚款',\n",
       "  '澄清###限期整改',\n",
       "  '澄清###扣押',\n",
       "  '告一段落###罚款',\n",
       "  '告一段落###重罚',\n",
       "  '不属实###制裁',\n",
       "  '否认###禁入',\n",
       "  '澄清###警告',\n",
       "  '不存在###制裁',\n",
       "  '否认###责令停产',\n",
       "  '澄清###责令停产',\n",
       "  '否认###整顿',\n",
       "  '澄清###停产整改',\n",
       "  '不存在###暂扣',\n",
       "  '否认###责令整改',\n",
       "  '不属实###处罚',\n",
       "  '告一段落###通报批评',\n",
       "  '不存在###责令改正',\n",
       "  '告一段落###罚金',\n",
       "  '不存在###整治',\n",
       "  '不存在###责令停产',\n",
       "  '否认###整治',\n",
       "  '否认###通报批评',\n",
       "  '澄清###罚没',\n",
       "  '不存在###通报批评',\n",
       "  '不存在###整顿',\n",
       "  '否认###责令改正',\n",
       "  '自证清白###通报批评',\n",
       "  '不存在###罚没',\n",
       "  '撇清###罚没',\n",
       "  '否认###罚金'],\n",
       " '否认项目负面': ['澄清###利润下降',\n",
       "  '澄清###阴阳合同',\n",
       "  '否认###合同诈骗',\n",
       "  '不存在###阴阳合同',\n",
       "  '不存在###合同终止',\n",
       "  '澄清###利润下滑',\n",
       "  '否认###利润下滑',\n",
       "  '不符合实际###利润较低',\n",
       "  '不存在###利润亏损',\n",
       "  '不存在###合同纠纷',\n",
       "  '不存在###净利润为负值',\n",
       "  '澄清###合同终止',\n",
       "  '澄清###合同纠纷',\n",
       "  '澄清###合同造假',\n",
       "  '澄清###假合同',\n",
       "  '否认###阴阳合同',\n",
       "  '澄清###合同诈骗',\n",
       "  '撇清###阴阳合同',\n",
       "  '告一段落###合同纠纷'],\n",
       " '否认重组失败': ['澄清###重组失败',\n",
       "  '不存在###重组失败',\n",
       "  '否认###被稽查',\n",
       "  '不存在###重组终止',\n",
       "  '否认###涉嫌内幕交易',\n",
       "  '澄清###涉嫌内幕交易',\n",
       "  '澄清###终止重组',\n",
       "  '不存在###被立案调查',\n",
       "  '不存在###违法违规',\n",
       "  '不属实###重组失败',\n",
       "  '自证清白###涉嫌内幕交易',\n",
       "  '否认###终止重组',\n",
       "  '严重失实###重组失败',\n",
       "  '否认###被立案调查',\n",
       "  '否认###重组失败',\n",
       "  '撇清###重组失败',\n",
       "  '不存在###终止重组',\n",
       "  '澄清###重组终止',\n",
       "  '澄清###遭证监会调查',\n",
       "  '撇清###涉嫌内幕交易',\n",
       "  '否认###重组终止',\n",
       "  '澄清###违法违规',\n",
       "  '不存在###涉嫌内幕交易'],\n",
       " '否认破产清算': ['不存在###破产重整',\n",
       "  '不存在###破产',\n",
       "  '澄清###破产',\n",
       "  '澄清###破产重整',\n",
       "  '澄清###破产清算',\n",
       "  '澄清###资不抵债',\n",
       "  '不存在###资不抵债',\n",
       "  '不存在###倒闭',\n",
       "  '澄清###关门',\n",
       "  '否认###关门',\n",
       "  '否认###破产',\n",
       "  '否认###破产清算',\n",
       "  '否认###破产重整',\n",
       "  '否认###资不抵债',\n",
       "  '否认###强制清算',\n",
       "  '澄清###倒闭',\n",
       "  '撇清###破产',\n",
       "  '澄清###破产重组',\n",
       "  '撇清###濒临破产',\n",
       "  '澄清###濒临破产',\n",
       "  '否认###倒闭',\n",
       "  '失实###倒闭',\n",
       "  '严重失实###倒闭',\n",
       "  '否认###破产重组'],\n",
       " '传闻销量减少': ['传闻###销量下滑', '传闻###销售量下降', '传闻###销量下降', '传闻###销售额下降'],\n",
       " '否认产品下架': ['否认###下架',\n",
       "  '澄清###下架',\n",
       "  '不存在###下架',\n",
       "  '不存在###撤下',\n",
       "  '否认###撤下',\n",
       "  '不属实###下架',\n",
       "  '澄清###撤下'],\n",
       " '传闻食品添加剂': ['消息称###低于',\n",
       "  '传闻###不合格',\n",
       "  '传闻###低于',\n",
       "  '传闻###缺少',\n",
       "  '盛传###缺少',\n",
       "  '爆料###低于',\n",
       "  '传闻###超标',\n",
       "  '谣言###低于',\n",
       "  '消息称###超标',\n",
       "  '传言###低于',\n",
       "  '流传###低于',\n",
       "  '消息称###缺少',\n",
       "  '消息称###检出',\n",
       "  '谣言###超标',\n",
       "  '消息称###不合格',\n",
       "  '谣传###低于',\n",
       "  '流传###不合格',\n",
       "  '流传###缺少',\n",
       "  '爆料###超标',\n",
       "  '传言###残留',\n",
       "  '传闻###残留',\n",
       "  '传闻###过量',\n",
       "  '爆料###不合格',\n",
       "  '流传###残留',\n",
       "  '传言###超标',\n",
       "  '言论###低于',\n",
       "  '传闻###检出',\n",
       "  '消息称###超过标准',\n",
       "  '消息称###残留'],\n",
       " '传闻产品质量': ['传闻###不合格',\n",
       "  '传闻###超标',\n",
       "  '言论###缺陷',\n",
       "  '流言###以次充好',\n",
       "  '消息称###超标',\n",
       "  '爆料###超标',\n",
       "  '传闻###不达标',\n",
       "  '谣言###超标',\n",
       "  '消息称###缺陷',\n",
       "  '消息称###不达标',\n",
       "  '流传###不合格',\n",
       "  '消息称###不合格',\n",
       "  '流传###缺陷',\n",
       "  '流传###存在安全隐患',\n",
       "  '传闻###缺陷',\n",
       "  '爆料###不合格',\n",
       "  '传言###超标',\n",
       "  '消息称###偷工减料',\n",
       "  '爆料###过期',\n",
       "  '爆料###假货',\n",
       "  '传言###缺陷',\n",
       "  '传闻###以次充好',\n",
       "  '爆料###不过关',\n",
       "  '爆料###掺杂',\n",
       "  '爆料###不达标'],\n",
       " '否认违规生产': ['否认###违规生产',\n",
       "  '否认###违规排污',\n",
       "  '澄清###违规排污',\n",
       "  '澄清###爆炸事故',\n",
       "  '澄清###非法生产',\n",
       "  '否认###违法排污',\n",
       "  '否认###项目违规',\n",
       "  '澄清###违规生产',\n",
       "  '澄清###偷排污水',\n",
       "  '澄清###违法生产',\n",
       "  '不存在###爆炸事故',\n",
       "  '否认###偷排污水'],\n",
       " '否认企业整改': ['澄清###整顿',\n",
       "  '澄清###整改',\n",
       "  '否认###整顿',\n",
       "  '否认###整改',\n",
       "  '不存在###整改',\n",
       "  '失实###整顿',\n",
       "  '失实###整改',\n",
       "  '严重失实###整改',\n",
       "  '告一段落###整改',\n",
       "  '不存在###整顿',\n",
       "  '撇清###整改'],\n",
       " '传闻企业整改': ['谣传###整顿',\n",
       "  '传闻###整顿',\n",
       "  '消息称###整改',\n",
       "  '流传###整改',\n",
       "  '传闻###整改',\n",
       "  '传言###整改',\n",
       "  '消息称###整顿',\n",
       "  '言论###整改',\n",
       "  '流传###整顿',\n",
       "  '传言###整顿'],\n",
       " '否认产品召回': ['不属实###召回',\n",
       "  '澄清###召回',\n",
       "  '撇清###召回',\n",
       "  '否认###召回',\n",
       "  '不存在###召回',\n",
       "  '告一段落###召回',\n",
       "  '失实###召回',\n",
       "  '是谣言###召回'],\n",
       " '传闻产品被送检': ['传闻###复检',\n",
       "  '消息称###送检',\n",
       "  '爆料###送检',\n",
       "  '传言###送检',\n",
       "  '风传###送检',\n",
       "  '传闻###送检',\n",
       "  '传言###复检'],\n",
       " '传闻项目负面': ['传言###合同终止',\n",
       "  '消息称###合同纠纷',\n",
       "  '传闻###利润下滑',\n",
       "  '传闻###合同纠纷',\n",
       "  '传言###利润下滑',\n",
       "  '爆料###阴阳合同',\n",
       "  '传闻###阴阳合同',\n",
       "  '传闻###项目亏损',\n",
       "  '传言###项目亏损',\n",
       "  '流传###合同诈骗',\n",
       "  '爆料###合同诈骗',\n",
       "  '传闻###假合同',\n",
       "  '谣言###利润下降',\n",
       "  '传闻###利润亏损',\n",
       "  '传闻###合同造假',\n",
       "  '传言###利润率下降'],\n",
       " '否认产品被送检': ['不存在###送检',\n",
       "  '澄清###复检',\n",
       "  '否认###送检',\n",
       "  '澄清###送检',\n",
       "  '自证清白###送检',\n",
       "  '撇清###送检',\n",
       "  '不存在###复检'],\n",
       " '传闻产品下架': ['消息称###下架', '传言###撤下', '传言###下架', '消息称###撤下'],\n",
       " '传闻违规生产': ['消息称###违法排污',\n",
       "  '消息称###爆炸事故',\n",
       "  '消息称###违规生产',\n",
       "  '传闻###违规生产',\n",
       "  '传闻###爆炸事故',\n",
       "  '谣言###爆炸事故'],\n",
       " '传闻产品召回': ['消息称###召回', '爆料###召回', '传闻###召回'],\n",
       " '否认销量减少': ['否认###销量下滑', '澄清###销量下滑', '否认###销量下降', '不属实###销量下滑']}"
      ]
     },
     "execution_count": 19,
     "metadata": {},
     "output_type": "execute_result"
    }
   ],
   "source": [
    "all_datasets"
   ]
  },
  {
   "cell_type": "code",
   "execution_count": 29,
   "metadata": {
    "pycharm": {
     "name": "#%%\n"
    }
   },
   "outputs": [],
   "source": [
    "with open(\"catrigger.txt\",\"w\",encoding='utf-8') as f:\n",
    "    for index,item in all_datasets.items():\n",
    "        f.write(str(index)+\"---\"+str(item)+\"\\n\")"
   ]
  }
 ],
 "metadata": {
  "kernelspec": {
   "display_name": "Python 3",
   "language": "python",
   "name": "python3"
  },
  "language_info": {
   "codemirror_mode": {
    "name": "ipython",
    "version": 3
   },
   "file_extension": ".py",
   "mimetype": "text/x-python",
   "name": "python",
   "nbconvert_exporter": "python",
   "pygments_lexer": "ipython3",
   "version": "3.6.8"
  }
 },
 "nbformat": 4,
 "nbformat_minor": 4
}